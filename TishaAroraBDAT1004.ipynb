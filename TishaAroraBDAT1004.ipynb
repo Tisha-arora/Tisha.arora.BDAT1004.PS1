{
 "cells": [
  {
   "cell_type": "markdown",
   "id": "302c47a8-9140-4ca3-a601-4f4877b75b9f",
   "metadata": {},
   "source": [
    "Question 1:\"\n",
    "\n",
    "What data type is each of the following (evaluate where necessary)?"
   ]
  },
  {
   "cell_type": "markdown",
   "id": "a958848e-ce92-40c0-b6d4-6077b5454b70",
   "metadata": {},
   "source": [
    "| data      | type                                                                | \n",
    "|:--------- |--------------:                                                      |\n",
    "|5          | integer                                                             |\n",
    "|5.0        | float                                                               |\n",
    "|5>1        | boolean                                                             |\n",
    "|'5'        | string                                                              |\n",
    "|5*2        | integer                                                             |\n",
    "|'5'*2      | string                                                              |\n",
    "|'5'+'2'    | string                                                              |\n",
    "|5\\2        | integer                                                             |\n",
    "|5%2        | integer                                                             |\n",
    "|{5,2,1}    | set                                                                 |\n",
    "|5==3       | boolean                                                             |\n",
    "|pi(number) | float                                                               |"
   ]
  },
  {
   "cell_type": "markdown",
   "id": "c2f9736c-c617-4c04-be1b-f26723ef0f9b",
   "metadata": {},
   "source": [
    "Question 2:\n",
    "\n",
    "Write (and evaluate) python expressions that answer these questions:\n",
    "a. How many letters are there in 'Supercalifragilisticexpialidocious'?"
   ]
  },
  {
   "cell_type": "code",
   "execution_count": 5,
   "id": "9ea079cc-1e29-40a9-ab4f-eb06102cdfea",
   "metadata": {},
   "outputs": [
    {
     "name": "stdout",
     "output_type": "stream",
     "text": [
      "34\n"
     ]
    }
   ],
   "source": [
    "word= 'Supercalifragilisticexpialidocious'\n",
    "print(len(word))"
   ]
  },
  {
   "cell_type": "markdown",
   "id": "9b4279ea-2a41-47e9-8555-dece3c558cb5",
   "metadata": {},
   "source": [
    "b. Does 'Supercalifragilisticexpialidocious' contain 'ice' as a substring?"
   ]
  },
  {
   "cell_type": "code",
   "execution_count": 9,
   "id": "a8d6ae99-3464-4f7e-b7ee-4d934d5fba0c",
   "metadata": {},
   "outputs": [
    {
     "name": "stdout",
     "output_type": "stream",
     "text": [
      "yes found it\n"
     ]
    }
   ],
   "source": [
    "word = 'Supercalifragilisticexpialidocious'\n",
    "if 'ice' in word:\n",
    " print('yes found it')\n",
    "else:\n",
    " print('no,not there')\n"
   ]
  },
  {
   "cell_type": "markdown",
   "id": "fa03d9c6-368d-4bd0-83dc-a44b1cb52987",
   "metadata": {},
   "source": [
    "c. Which of the following words is the longest:\n",
    "Supercalifragilisticexpialidocious, Honorificabilitudinitatibus,or Bababadalgharaghtakamminarronnkonn?"
   ]
  },
  {
   "cell_type": "code",
   "execution_count": 33,
   "id": "622634ed-33a2-4006-a009-abf7c844c2c1",
   "metadata": {},
   "outputs": [
    {
     "name": "stdout",
     "output_type": "stream",
     "text": [
      "Bababadalgharaghtakamminarronnkonn is longest of all three.\n"
     ]
    }
   ],
   "source": [
    "letter_1 = 'Supercalifragilisticexpialidocious'\n",
    "letter_2 = 'Honorificabilitudinitatibus'\n",
    "letter_3 = 'Bababadalgharaghtakamminarronnkonn'\n",
    "if len(letter_1) > len(letter_2) :\n",
    "  if len(letter_1) > len(letter_3):\n",
    "      print(letter_1 + \" is longest of all three.\")\n",
    "  else:\n",
    "      print(letter_3 + \" is longest of all three.\")\n",
    "else:\n",
    "    if len(letter_2) > len(letter_3):\n",
    "        print(letter_2 + \" is longest of all three.\")\n",
    "    else:\n",
    "        print(letter_3 + \" is longest of all three.\")"
   ]
  },
  {
   "cell_type": "markdown",
   "id": "bf8cb75d-c953-4834-8e1c-4195938b992e",
   "metadata": {},
   "source": [
    "d. Which composer comes first in the dictionary: 'Berlioz', 'Borodin', 'Brian',\n",
    "'Bartok', 'Bellini', 'Buxtehude', 'Bernstein'. Which one comes last?"
   ]
  },
  {
   "cell_type": "code",
   "execution_count": 38,
   "id": "d6dd190e-3666-42c6-96cd-8dd0857be3f8",
   "metadata": {},
   "outputs": [
    {
     "name": "stdout",
     "output_type": "stream",
     "text": [
      "Bartok\n",
      "Buxtehude\n"
     ]
    }
   ],
   "source": [
    "lst = ['Berlioz', 'Borodin', 'Brian','Bartok', 'Bellini', 'Buxtehude', 'Bernstein']\n",
    "lst.sort()\n",
    "print(lst[0])\n",
    "print(lst[-1])"
   ]
  },
  {
   "cell_type": "markdown",
   "id": "9d4c2a1e-2d5a-4f9a-91f6-506f80428ec9",
   "metadata": {},
   "source": [
    "Question 3:\n",
    "\n",
    "Implement function triangleArea(a,b,c) that takes as input the lengths of the 3\n",
    "sides of a triangle and returns the area of the triangle. By Heron's formula, the area\n",
    "of a triangle with side lengths a, b, and c iss(s - a)(s - b)(s - c) , where s = (a + b + c)/2\n",
    ".\n",
    ">>> triangleArea(2,2,2)\n",
    "1.7320508075688772"
   ]
  },
  {
   "cell_type": "code",
   "execution_count": 75,
   "id": "4e982a94-b248-4291-a197-6e339bb8b456",
   "metadata": {},
   "outputs": [
    {
     "name": "stdout",
     "output_type": "stream",
     "text": [
      "s =(a+b+c)/2 = 3.0\n",
      "TriangleArea(a,b,c) is 1.7320508075688772\n"
     ]
    }
   ],
   "source": [
    "#calculating s\n",
    "import math\n",
    "a = 2\n",
    "b = 2\n",
    "c = 2\n",
    "s = float((a + b + c)/2)\n",
    "print(f\"s =(a+b+c)/2 = {s}\")\n",
    "#calculating area\n",
    "area = math.sqrt(s*(s-a)*(s-b)*(s-c))\n",
    "print(f\"TriangleArea(a,b,c) is {area}\")\n"
   ]
  },
  {
   "cell_type": "markdown",
   "id": "c6c8a125-5fc3-494f-972e-9c426f314e18",
   "metadata": {},
   "source": [
    "Question 4:\n",
    "\n",
    "Write a program in python to separate odd and even integers in separate arrays. Go\n",
    "to the editor\n",
    "Test Data :\n",
    "Input the number of elements to be stored in the array :5\n",
    "Input 5 elements in the array :\n",
    "element - 0 : 25\n",
    "element - 1 : 47\n",
    "element - 2 : 42\n",
    "element - 3 : 56\n",
    "element - 4 : 32\n",
    "Expected Output:\n",
    "The Even elements are:\n",
    "42 56 32\n",
    "The Odd elements are :\n",
    "25 47"
   ]
  },
  {
   "cell_type": "code",
   "execution_count": 114,
   "id": "da08c268-fb5e-4385-8505-bcfc35418849",
   "metadata": {},
   "outputs": [
    {
     "name": "stdin",
     "output_type": "stream",
     "text": [
      "Input the number of elements to be stored in the array :  7\n",
      " 1\n",
      " 2\n",
      " 3\n",
      " 4\n",
      " 5\n",
      " 6\n",
      " 7\n"
     ]
    },
    {
     "name": "stdout",
     "output_type": "stream",
     "text": [
      "even elements are :\n",
      "[2, 4, 6]\n",
      "old elements are :\n",
      "[1, 3, 5, 7]\n"
     ]
    }
   ],
   "source": [
    "#defining no. of elements we need\n",
    "needed_array = int(input(\"Input the number of elements to be stored in the array : \"))\n",
    "elements=[]\n",
    "even_elements=[]\n",
    "odd_elements=[]\n",
    "#taking numbers\n",
    "for z in range(0,needed_array):\n",
    "    elements.append(int(input()))\n",
    "for element in elements:\n",
    " if element % 2 == 0:\n",
    "    even_elements.append(element)\n",
    " else:\n",
    "    odd_elements.append(element)\n",
    "\n",
    "print(\"even elements are :\")\n",
    "print(even_elements)\n",
    "print(\"old elements are :\")\n",
    "print(odd_elements)\n",
    "    "
   ]
  },
  {
   "cell_type": "markdown",
   "id": "ebb57703-030f-4b04-9bac-130b4717408d",
   "metadata": {},
   "source": [
    "Question 5:\n",
    "\n",
    "a. Write a function inside(x,y,x1,y1,x2,y2) that returns True or False\n",
    "depending on whether the point (x,y) lies in the rectangle with lower left\n",
    "corner (x1,y1) and upper right corner (x2,y2).\n",
    ">>> inside(1,1,0,0,2,3)\n",
    "True\n",
    ">>> inside(-1,-1,0,0,2,3)\n",
    "False"
   ]
  },
  {
   "cell_type": "code",
   "execution_count": 112,
   "id": "f137946e-434c-49be-b126-28afb23d3bb5",
   "metadata": {},
   "outputs": [
    {
     "name": "stdout",
     "output_type": "stream",
     "text": [
      "True\n",
      "False\n"
     ]
    }
   ],
   "source": [
    "#DEFINING INSIDE FUNCTION\n",
    "def inside (x,y,x1,y1,x2,y2):\n",
    "  if x >= x1 and x <= x2 and y >= y1 and y <= y2:\n",
    "     return True\n",
    "  else:\n",
    "     return False\n",
    "\n",
    "\n",
    "graphics= inside(1,1,0,0,2,3)\n",
    "print(graphics)\n",
    "graphics1= inside(-1,-1,0,0,2,3)\n",
    "print(graphics1)\n"
   ]
  },
  {
   "cell_type": "code",
   "execution_count": null,
   "id": "752be69f-a97d-4b5d-b906-573c0a73b43a",
   "metadata": {},
   "outputs": [],
   "source": [
    "Question 5:\n",
    "\n",
    "b. Use function inside() from part a. to write an expression that tests whether\n",
    "the point (1,1) lies in both of the following rectangles: one with lower left\n",
    "corner (0.3, 0.5) and upper right corner (1.1, 0.7) and the other with lower\n",
    "left corner (0.5, 0.2) and upper right corner (1.1, 2)."
   ]
  },
  {
   "cell_type": "code",
   "execution_count": 119,
   "id": "f3e8c6ff-8ed7-4c20-aafd-04c87581f1a3",
   "metadata": {},
   "outputs": [
    {
     "name": "stdout",
     "output_type": "stream",
     "text": [
      "False\n"
     ]
    }
   ],
   "source": [
    "#DEFINING FUNCTION USED IN 1ST PART\n",
    "def inside (x,y,x1,y1,x2,y2):\n",
    " if x >= x1 and x <= x2 and y >= y1 and y <= y2:\n",
    "     return True\n",
    " else:\n",
    "     return False\n",
    "x=1\n",
    "y=1\n",
    "x11 = 0.3\n",
    "y11 = 0.5\n",
    "x12 = 1.1\n",
    "y12 = 0.7\n",
    "x21 = 0.5\n",
    "x22 = 1.1\n",
    "y22 = 2\n",
    "\n",
    "given_rectangle = inside(x,y,x11,x12,x12,y12) and inside(x,y,x21,y21,x22,y22)\n",
    "print(given_rectangle)"
   ]
  },
  {
   "cell_type": "markdown",
   "id": "df36fc5a-3869-4aa6-891e-8583a9ed17ca",
   "metadata": {},
   "source": [
    "Question 6:\n",
    "\n",
    "You can turn a word into pig-Latin using the following two rules (simplified):\n",
    "• If the word starts with a consonant, move that letter to the end and append\n",
    "'ay'. For example, 'happy' becomes 'appyhay' and 'pencil' becomes 'encilpay'.\n",
    "• If the word starts with a vowel, simply append 'way' to the end of the word.\n",
    "For example, 'enter' becomes 'enterway' and 'other' becomes 'otherway' . For\n",
    "our purposes, there are 5 vowels: a, e, i, o, u (so we count y as a consonant).\n",
    "Write a function pig() that takes a word (i.e., a string) as input and returns its pig-\n",
    "Latin form. Your function should still work if the input word contains upper case\n",
    "characters. Your output should always be lower case however.\n",
    ">>> pig('happy')\n",
    "'appyhay'\n",
    ">>> pig('Enter')\n",
    "'enterway'"
   ]
  },
  {
   "cell_type": "code",
   "execution_count": 124,
   "id": "33fae1a9-2e01-4f38-9dd1-6fcd31d1d32b",
   "metadata": {},
   "outputs": [
    {
     "name": "stdout",
     "output_type": "stream",
     "text": [
      "ishatay\n"
     ]
    }
   ],
   "source": [
    "vowels = ['a' , 'e' , 'i' , 'o' , 'u']\n",
    "def pig(word):\n",
    "    if word[0].lower() in vowels:\n",
    "        print(word[0].lower() + \"way\")\n",
    "    else:\n",
    "        main_word= word[0]\n",
    "        print(word[1:].lower() + main_word.lower() + \"ay\")\n",
    "\n",
    "pig(\"Tisha\")\n",
    "        "
   ]
  },
  {
   "cell_type": "markdown",
   "id": "d5bb3b13-73ed-49cd-a671-8ef1d254d491",
   "metadata": {},
   "source": [
    "Question 7:\n",
    "\n",
    "File bloodtype1.txt records blood-types of patients (A, B, AB, O or OO) at a clinic.\n",
    "Write a function bldcount() that reads the file with name name and reports (i.e.,\n",
    "prints) how many patients there are in each bloodtype.\n",
    ">>> bldcount('bloodtype.txt')\n",
    "There are 10 patients of blood type A.\n",
    "There is one patient of blood type B.\n",
    "There are 10 patients of blood type AB.\n",
    "There are 12 patients of blood type O.\n",
    "There are no patients of blood type OO."
   ]
  },
  {
   "cell_type": "code",
   "execution_count": 143,
   "id": "6de8d40a-6234-46ca-b92c-b7ceb5791616",
   "metadata": {},
   "outputs": [
    {
     "name": "stdout",
     "output_type": "stream",
     "text": [
      "There are 15 patients of blood type A.\n",
      "There is 1 patients of blood type B.\n",
      "There are 13 patients of blood type AB.\n",
      "There are 15 patients of blood type O.\n",
      "There are 0 patients of blood type OO.\n"
     ]
    }
   ],
   "source": [
    "def bldcount(given_file):\n",
    "\n",
    "     with open(given_file, 'r') as file:\n",
    "        type_A = 0\n",
    "        type_B = 0\n",
    "        type_O = 0\n",
    "        type_OO = 0\n",
    "        type_AB = 0\n",
    "        \n",
    "        for data in file:\n",
    "            for bloodtype in data.split():\n",
    "             if bloodtype == \"A\":\n",
    "                 type_A += 1\n",
    "             if bloodtype == \"B\":\n",
    "                 type_B += 1\n",
    "             if bloodtype == \"O\":\n",
    "                 type_O += 1\n",
    "             if bloodtype == \"OO\":\n",
    "                 type_OO += 1\n",
    "             if bloodtype == \"AB\":\n",
    "                 type_AB += 1\n",
    "\n",
    "\n",
    "     print(\"There are \" + str(type_A) + \" patients of blood type A.\")  \n",
    "     print(\"There is \" + str(type_B) + \" patients of blood type B.\")\n",
    "     print(\"There are \" + str(type_AB) + \" patients of blood type AB.\")\n",
    "     print(\"There are \" + str(type_O) + \" patients of blood type O.\")\n",
    "     print(\"There are \" + str(type_OO) + \" patients of blood type OO.\")\n",
    "\n",
    "\n",
    "     file.close()\n",
    "\n",
    "given_file = \"bloodtype1.txt\"\n",
    "bldcount(given_file)\n",
    "\n",
    "                \n",
    "                "
   ]
  },
  {
   "cell_type": "markdown",
   "id": "de417004-2727-41c5-b1c1-b1d0bf4aaaf7",
   "metadata": {},
   "source": [
    "Question 8:\n",
    "\n",
    "Write a function curconv() that takes as input:\n",
    "1. a currency represented using a string (e.g., 'JPY' for the Japanese Yen or\n",
    "'EUR' for the Euro)\n",
    "2. an amount\n",
    "and then converts and returns the amount in US dollars.\n",
    ">>> curconv('EUR', 100)\n",
    "122.96544\n",
    ">>> curconv('JPY', 100)\n",
    "1.241401\n",
    "The currency rates you will need are stored in file currencies.txt:\n",
    "AUD 1.0345157 Australian Dollar\n",
    "CHF 1.0237414 Swiss Franc\n",
    "CNY 0.1550176 Chinese Yuan\n",
    "DKK 0.1651442 Danish Krone\n",
    "EUR 1.2296544 Euro\n",
    "GBP 1.5550989 British Pound\n",
    "HKD 0.1270207 Hong Kong Dollar\n",
    "INR 0.0177643 Indian Rupee\n",
    "JPY 0.01241401 Japanese Yen\n",
    "MXN 0.0751848 Mexican Peso\n",
    "MYR 0.3145411 Malaysian Ringgit\n",
    "NOK 0.1677063 Norwegian Krone\n",
    "NZD 0.8003591 New Zealand Dollar\n",
    "PHP 0.0233234 Philippine Peso\n",
    "SEK 0.148269 Swedish Krona\n",
    "SGD 0.788871 Singapore Dollar\n",
    "THB 0.0313789 Thai Baht"
   ]
  },
  {
   "cell_type": "code",
   "execution_count": 157,
   "id": "96263e2e-25ab-43ed-a36f-ff86c09ec25a",
   "metadata": {},
   "outputs": [
    {
     "name": "stdout",
     "output_type": "stream",
     "text": [
      "122.96544\n",
      "1.241401\n"
     ]
    }
   ],
   "source": [
    "def curconv(currency,amount):\n",
    "    given_file = \"currencies.txt\"\n",
    "    rate_map = {}\n",
    "    with open(given_file,'r')as file:\n",
    "\n",
    "     for line in file:\n",
    "        input = line.split()\n",
    "        rate_map[input[0]] = float(input[1])\n",
    "\n",
    "    currency.upper()\n",
    "    if currency in rate_map:\n",
    "        print(amount * rate_map[currency])\n",
    "    else:\n",
    "        print(\"currency is not available\")\n",
    "\n",
    "    file.close()\n",
    "   \n",
    "\n",
    "curconv('EUR',100)\n",
    "curconv('JPY',100)\n",
    "\n",
    "        "
   ]
  },
  {
   "cell_type": "markdown",
   "id": "b6e5e369-c56e-4012-aa48-e306c05d4dfc",
   "metadata": {},
   "source": [
    "Question 9:\n",
    "\n",
    "Each of the following will cause an exception (an error). Identify what type of\n",
    "exception each will cause.\n",
    "Trying to add incompatible variables, as in\n",
    "adding 6 + ‘a’\n",
    "Referring to the 12th item of a list that has only 10\n",
    "items\n",
    "Using a value that is out of range for a function’s\n",
    "input, such as calling math.sqrt(-1.0)\n",
    "Using an undeclared variable, such as print(x)\n",
    "when x has not been defined\n",
    "Trying to open a file that does not exist, such as\n",
    "mistyping the file name or looking in the wrong\n",
    "directory."
   ]
  },
  {
   "cell_type": "code",
   "execution_count": 158,
   "id": "1b06d92e-4fa6-4bfa-97c9-597f6c12a7f7",
   "metadata": {},
   "outputs": [
    {
     "ename": "SyntaxError",
     "evalue": "invalid character '‘' (U+2018) (2536223303.py, line 2)",
     "output_type": "error",
     "traceback": [
      "\u001b[1;36m  Cell \u001b[1;32mIn[158], line 2\u001b[1;36m\u001b[0m\n\u001b[1;33m    adding 6 + ‘a’\u001b[0m\n\u001b[1;37m               ^\u001b[0m\n\u001b[1;31mSyntaxError\u001b[0m\u001b[1;31m:\u001b[0m invalid character '‘' (U+2018)\n"
     ]
    }
   ],
   "source": [
    "#Trying to add incompatible variables, as in\n",
    "print(6 + ‘a’)\n",
    "#SyntaxError: invalid character '‘'"
   ]
  },
  {
   "cell_type": "code",
   "execution_count": 168,
   "id": "0d3847c9-4d12-4d96-b815-b5aedd947837",
   "metadata": {
    "scrolled": true
   },
   "outputs": [
    {
     "ename": "IndexError",
     "evalue": "list index out of range",
     "output_type": "error",
     "traceback": [
      "\u001b[1;31m---------------------------------------------------------------------------\u001b[0m",
      "\u001b[1;31mIndexError\u001b[0m                                Traceback (most recent call last)",
      "Cell \u001b[1;32mIn[168], line 3\u001b[0m\n\u001b[0;32m      1\u001b[0m \u001b[38;5;66;03m#Referring to the 12th item of a list that has only 10 items\u001b[39;00m\n\u001b[0;32m      2\u001b[0m \u001b[38;5;28mlist\u001b[39m \u001b[38;5;241m=\u001b[39m [\u001b[38;5;124m'\u001b[39m\u001b[38;5;124ma\u001b[39m\u001b[38;5;124m'\u001b[39m, \u001b[38;5;124m'\u001b[39m\u001b[38;5;124mb\u001b[39m\u001b[38;5;124m'\u001b[39m, \u001b[38;5;124m'\u001b[39m\u001b[38;5;124mc\u001b[39m\u001b[38;5;124m'\u001b[39m, \u001b[38;5;124m'\u001b[39m\u001b[38;5;124md\u001b[39m\u001b[38;5;124m'\u001b[39m, \u001b[38;5;124m'\u001b[39m\u001b[38;5;124me\u001b[39m\u001b[38;5;124m'\u001b[39m, \u001b[38;5;124m'\u001b[39m\u001b[38;5;124mf\u001b[39m\u001b[38;5;124m'\u001b[39m, \u001b[38;5;124m'\u001b[39m\u001b[38;5;124mg\u001b[39m\u001b[38;5;124m'\u001b[39m, \u001b[38;5;124m'\u001b[39m\u001b[38;5;124mh\u001b[39m\u001b[38;5;124m'\u001b[39m, \u001b[38;5;124m'\u001b[39m\u001b[38;5;124mi\u001b[39m\u001b[38;5;124m'\u001b[39m, \u001b[38;5;124m'\u001b[39m\u001b[38;5;124mj\u001b[39m\u001b[38;5;124m'\u001b[39m]\n\u001b[1;32m----> 3\u001b[0m \u001b[38;5;28mprint\u001b[39m(\u001b[38;5;28mlist\u001b[39m[\u001b[38;5;241m10\u001b[39m])\n",
      "\u001b[1;31mIndexError\u001b[0m: list index out of range"
     ]
    }
   ],
   "source": [
    "#Referring to the 12th item of a list that has only 10 items\n",
    "list = ['a', 'b', 'c', 'd', 'e', 'f', 'g', 'h', 'i', 'j']\n",
    "print(list[10])\n",
    "#list index out of range"
   ]
  },
  {
   "cell_type": "code",
   "execution_count": 172,
   "id": "d6c4c8b3-b5d5-4b2e-afca-3b1f72f7f164",
   "metadata": {},
   "outputs": [
    {
     "ename": "TypeError",
     "evalue": "'tuple' object is not callable",
     "output_type": "error",
     "traceback": [
      "\u001b[1;31m---------------------------------------------------------------------------\u001b[0m",
      "\u001b[1;31mTypeError\u001b[0m                                 Traceback (most recent call last)",
      "Cell \u001b[1;32mIn[172], line 3\u001b[0m\n\u001b[0;32m      1\u001b[0m \u001b[38;5;66;03m#Using a value that is out of range for a function’s input, such as calling math.sqrt(-1.0)\u001b[39;00m\n\u001b[0;32m      2\u001b[0m \u001b[38;5;28;01mimport\u001b[39;00m \u001b[38;5;21;01mmath\u001b[39;00m \n\u001b[1;32m----> 3\u001b[0m sq \u001b[38;5;241m=\u001b[39m math\u001b[38;5;241m.\u001b[39msqrt(\u001b[38;5;241m1.0\u001b[39m, \u001b[38;5;241m1.4\u001b[39m)\n\u001b[0;32m      4\u001b[0m \u001b[38;5;28mprint\u001b[39m(sq)\n",
      "\u001b[1;31mTypeError\u001b[0m: 'tuple' object is not callable"
     ]
    }
   ],
   "source": [
    "#Using a value that is out of range for a function’s input, such as calling math.sqrt(-1.0)\n",
    "import math \n",
    "sq = math.sqrt(1.0, 1.4)\n",
    "print(sq)\n",
    "#'tuple' object is not callable"
   ]
  },
  {
   "cell_type": "code",
   "execution_count": 178,
   "id": "40342b47-6b44-4662-bc54-4674e8664b09",
   "metadata": {},
   "outputs": [
    {
     "ename": "NameError",
     "evalue": "name 'Y' is not defined",
     "output_type": "error",
     "traceback": [
      "\u001b[1;31m---------------------------------------------------------------------------\u001b[0m",
      "\u001b[1;31mNameError\u001b[0m                                 Traceback (most recent call last)",
      "Cell \u001b[1;32mIn[178], line 2\u001b[0m\n\u001b[0;32m      1\u001b[0m \u001b[38;5;66;03m#Using an undeclared variable, such as print(x) when x has not been defined\u001b[39;00m\n\u001b[1;32m----> 2\u001b[0m \u001b[38;5;28mprint\u001b[39m(Y)\n",
      "\u001b[1;31mNameError\u001b[0m: name 'Y' is not defined"
     ]
    }
   ],
   "source": [
    "#Using an undeclared variable, such as print(x) when x has not been defined\n",
    "print(Y)\n",
    "# name 'Y' is not defined"
   ]
  },
  {
   "cell_type": "code",
   "execution_count": 180,
   "id": "a7b6a3d0-3e47-4833-a5ef-03f9a21c05b0",
   "metadata": {},
   "outputs": [
    {
     "ename": "FileNotFoundError",
     "evalue": "[Errno 2] No such file or directory: 'Bloodtype.txt'",
     "output_type": "error",
     "traceback": [
      "\u001b[1;31m---------------------------------------------------------------------------\u001b[0m",
      "\u001b[1;31mFileNotFoundError\u001b[0m                         Traceback (most recent call last)",
      "Cell \u001b[1;32mIn[180], line 3\u001b[0m\n\u001b[0;32m      1\u001b[0m \u001b[38;5;66;03m#Trying to open a file that does not exist, such as mistyping the file name or looking in the wrong directory.\u001b[39;00m\n\u001b[0;32m      2\u001b[0m name_file \u001b[38;5;241m=\u001b[39m \u001b[38;5;124m\"\u001b[39m\u001b[38;5;124mBloodtype.txt\u001b[39m\u001b[38;5;124m\"\u001b[39m\n\u001b[1;32m----> 3\u001b[0m file \u001b[38;5;241m=\u001b[39m \u001b[38;5;28mopen\u001b[39m(name_file, \u001b[38;5;124m'\u001b[39m\u001b[38;5;124mr\u001b[39m\u001b[38;5;124m'\u001b[39m)\n\u001b[0;32m      5\u001b[0m \u001b[38;5;28mprint\u001b[39m(file)\n",
      "File \u001b[1;32m~\\anaconda3\\Lib\\site-packages\\IPython\\core\\interactiveshell.py:310\u001b[0m, in \u001b[0;36m_modified_open\u001b[1;34m(file, *args, **kwargs)\u001b[0m\n\u001b[0;32m    303\u001b[0m \u001b[38;5;28;01mif\u001b[39;00m file \u001b[38;5;129;01min\u001b[39;00m {\u001b[38;5;241m0\u001b[39m, \u001b[38;5;241m1\u001b[39m, \u001b[38;5;241m2\u001b[39m}:\n\u001b[0;32m    304\u001b[0m     \u001b[38;5;28;01mraise\u001b[39;00m \u001b[38;5;167;01mValueError\u001b[39;00m(\n\u001b[0;32m    305\u001b[0m         \u001b[38;5;124mf\u001b[39m\u001b[38;5;124m\"\u001b[39m\u001b[38;5;124mIPython won\u001b[39m\u001b[38;5;124m'\u001b[39m\u001b[38;5;124mt let you open fd=\u001b[39m\u001b[38;5;132;01m{\u001b[39;00mfile\u001b[38;5;132;01m}\u001b[39;00m\u001b[38;5;124m by default \u001b[39m\u001b[38;5;124m\"\u001b[39m\n\u001b[0;32m    306\u001b[0m         \u001b[38;5;124m\"\u001b[39m\u001b[38;5;124mas it is likely to crash IPython. If you know what you are doing, \u001b[39m\u001b[38;5;124m\"\u001b[39m\n\u001b[0;32m    307\u001b[0m         \u001b[38;5;124m\"\u001b[39m\u001b[38;5;124myou can use builtins\u001b[39m\u001b[38;5;124m'\u001b[39m\u001b[38;5;124m open.\u001b[39m\u001b[38;5;124m\"\u001b[39m\n\u001b[0;32m    308\u001b[0m     )\n\u001b[1;32m--> 310\u001b[0m \u001b[38;5;28;01mreturn\u001b[39;00m io_open(file, \u001b[38;5;241m*\u001b[39margs, \u001b[38;5;241m*\u001b[39m\u001b[38;5;241m*\u001b[39mkwargs)\n",
      "\u001b[1;31mFileNotFoundError\u001b[0m: [Errno 2] No such file or directory: 'Bloodtype.txt'"
     ]
    }
   ],
   "source": [
    "#Trying to open a file that does not exist, such as mistyping the file name or looking in the wrong directory.\n",
    "name_file = \"Bloodtype.txt\"\n",
    "file = open(name_file, 'r')\n",
    "\n",
    "print(file)\n",
    "#No such file or directory: 'Bloodtype.txt'"
   ]
  },
  {
   "cell_type": "markdown",
   "id": "ac8f0272-6400-4f8d-b4ae-214b30ecc97d",
   "metadata": {},
   "source": [
    "Question 10:\n",
    "\n",
    "Encryption is the process of hiding the meaning of a text by substituting letters in the\n",
    "message with other letters, according to some system. If the process is successful, no\n",
    "one but the intended recipient can understand the encrypted message. Cryptanalysis\n",
    "refers to attempts to undo the encryption, even if some details of the encryption are\n",
    "unknown (for example, if an encrypted message has been intercepted). The first step\n",
    "of cryptanalysis is often to build up a table of letter frequencies in the encrypted text.\n",
    "Assume that the string letters is already defined as\n",
    "'abcdefghijklmnopqrstuvwxyz'. Write a function called frequencies()\n",
    "that takes a string as its only parameter, and returns a list of integers, showing the\n",
    "number of times each character appears in the text. Your function may ignore any\n",
    "characters that are not in letters.\n",
    ">>> frequencies('The quick red fox got bored and went home.')\n",
    "[1, 1, 1, 3, 5, 1, 1, 2, 1, 0, 1, 0, 1, 2, 4, 0, 1, 2, 0, 2,\n",
    "1, 0, 1, 1, 0, 0]\n",
    ">>> frequencies('apple')"
   ]
  },
  {
   "cell_type": "code",
   "execution_count": 185,
   "id": "599ef1e2-614c-4e55-8d57-eb4901244f6e",
   "metadata": {},
   "outputs": [
    {
     "name": "stdout",
     "output_type": "stream",
     "text": [
      "The word apple can be depicted as:\n",
      "[1, 0, 0, 0, 1, 0, 0, 0, 0, 0, 0, 1, 0, 0, 0, 2, 0, 0, 0, 0, 0, 0, 0, 0, 0, 0]\n"
     ]
    }
   ],
   "source": [
    "def frequencies(text):\n",
    "    letters = 'abcdefghijklmnopqrstuvwxyz'\n",
    "    # Initialize an empty dictionary to store frequencies\n",
    "    freq_dict = {char: 0 for char in letters}\n",
    "    \n",
    "    # Iterate through each character in the text\n",
    "    for char in text.lower():\n",
    "        # Check if the character is a letter\n",
    "        if char in letters:\n",
    "            # Increment the frequency count for the corresponding character\n",
    "            freq_dict[char] += 1\n",
    "    \n",
    "    # Convert the dictionary values to a list\n",
    "    freq_list = [freq_dict[char] for char in letters]\n",
    "    return freq_list\n",
    "\n",
    "# Test cases\n",
    "print(\"The word apple can be depicted as:\")\n",
    "print(frequencies('apple'))"
   ]
  },
  {
   "cell_type": "code",
   "execution_count": null,
   "id": "cfebd3b0-219d-4e89-9735-426eabe4d13a",
   "metadata": {},
   "outputs": [],
   "source": []
  }
 ],
 "metadata": {
  "kernelspec": {
   "display_name": "Python 3 (ipykernel)",
   "language": "python",
   "name": "python3"
  },
  "language_info": {
   "codemirror_mode": {
    "name": "ipython",
    "version": 3
   },
   "file_extension": ".py",
   "mimetype": "text/x-python",
   "name": "python",
   "nbconvert_exporter": "python",
   "pygments_lexer": "ipython3",
   "version": "3.11.7"
  }
 },
 "nbformat": 4,
 "nbformat_minor": 5
}
